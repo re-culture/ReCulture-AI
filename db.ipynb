{
 "cells": [
  {
   "metadata": {
    "ExecuteTime": {
     "end_time": "2024-09-03T11:59:43.832261Z",
     "start_time": "2024-09-03T11:59:43.819962Z"
    }
   },
   "cell_type": "code",
   "source": [
    "import os\n",
    "from dotenv import load_dotenv\n",
    "\n",
    "# .env 파일 로드\n",
    "load_dotenv()\n",
    "\n",
    "# 환경 변수 사용\n",
    "db_host = os.getenv(\"DATABASE_HOST\")\n",
    "db_name = os.getenv(\"DATABASE_NAME\")\n",
    "db_user = os.getenv(\"DATABASE_USER\")\n",
    "db_password = os.getenv(\"DATABASE_PASSWORD\")"
   ],
   "id": "af937c1b856907fe",
   "outputs": [],
   "execution_count": 11
  },
  {
   "metadata": {
    "ExecuteTime": {
     "end_time": "2024-09-03T13:41:05.799194Z",
     "start_time": "2024-09-03T13:41:05.791796Z"
    }
   },
   "cell_type": "code",
   "source": [
    "import random\n",
    "\n",
    "class RandomNicknameGenerator:\n",
    "    # 형용사 리스트\n",
    "    adjectives = [\n",
    "        \"배부른\", \"행복한\", \"용감한\", \"활기찬\", \"지혜로운\",\n",
    "        \"즐거운\", \"슬기로운\", \"긍정적인\", \"평화로운\", \"창의적인\"\n",
    "    ]\n",
    "\n",
    "    # 명사 리스트\n",
    "    nouns = [\n",
    "        \"토끼\", \"사자\", \"호랑이\", \"고양이\", \"강아지\",\n",
    "        \"여우\", \"나무늘보\", \"팬더\", \"코알라\", \"펭귄\",\n",
    "        \"햄스터\", \"다람쥐\", \"앵무새\", \"알파카\", \"쿼카\"\n",
    "    ]\n",
    "\n",
    "    @staticmethod\n",
    "    def generate_nickname():\n",
    "        # 형용사와 명사 리스트에서 랜덤으로 하나씩 선택\n",
    "        adjective = random.choice(RandomNicknameGenerator.adjectives)\n",
    "        noun = random.choice(RandomNicknameGenerator.nouns)\n",
    "\n",
    "        # 0에서 9999 사이의 랜덤 숫자 생성\n",
    "        number = random.randint(0, 9999)\n",
    "\n",
    "        # 닉네임 조합\n",
    "        return f\"{adjective} {noun} {number}\"\n",
    "\n",
    "print(RandomNicknameGenerator.generate_nickname())"
   ],
   "id": "faaa1d14ded96f62",
   "outputs": [
    {
     "name": "stdout",
     "output_type": "stream",
     "text": [
      "슬기로운 팬더 230\n"
     ]
    }
   ],
   "execution_count": 14
  },
  {
   "metadata": {},
   "cell_type": "code",
   "outputs": [
    {
     "name": "stdout",
     "output_type": "stream",
     "text": [
      "<connection object at 0x1073ed6d0; dsn: 'user=postgres password=xxx dbname=reculture host=35.226.243.3 port=5432', closed: 0>\n",
      "(1, '파일럿', '✈️', datetime.datetime(2024, 8, 20, 16, 13, 53, 726000), 'PUBLIC', '파일럿', '조정식, 이주명, 한선화 출연 / 김한결 감독', '코미디', '', 1, 1, '역시 믿고 보는 코미디 영화!', datetime.datetime(2024, 8, 13, 15, 9, 10, 606000), datetime.datetime(2024, 8, 20, 16, 14, 55, 735000))\n",
      "(4, '8/21 movie', '\\U0001f979', datetime.datetime(2024, 8, 20, 17, 18, 56), 'PRIVATE', 'Troll', 'Idk', 'Animation', '', 2, 1, 'Cool', datetime.datetime(2024, 8, 20, 17, 20, 23, 393000), datetime.datetime(2024, 8, 20, 17, 20, 23, 393000))\n",
      "(5, '8/15 musical', '🥲', datetime.datetime(2024, 8, 15, 5, 23, 53), 'PRIVATE', '영웅', 'somewhere', 'who', '', 2, 2, 'nice', datetime.datetime(2024, 8, 21, 5, 25, 1, 495000), datetime.datetime(2024, 8, 21, 5, 25, 1, 495000))\n",
      "(6, '8/15 Book', '😗', datetime.datetime(2024, 8, 15, 5, 25, 38), 'PUBLIC', 'Book', 'Me', '7.15~8/15', 'Gg', 2, 7, 'Ggg', datetime.datetime(2024, 8, 21, 5, 26, 33, 671000), datetime.datetime(2024, 8, 21, 5, 26, 33, 671000))\n",
      "(9, '그 모두가 나였음을...', '👍', datetime.datetime(2024, 6, 18, 23, 1, 13, 908000), 'PUBLIC', '인사이드 아웃 2', '켈시 만', '코미디', '', 15, 1, '감동적이고 나의 내면 세계를 엿볼 수 있어 신선한 영화였다.', datetime.datetime(2024, 9, 3, 11, 1, 54, 550000), datetime.datetime(2024, 9, 3, 11, 1, 54, 550000))\n"
     ]
    }
   ],
   "execution_count": 12,
   "source": [
    "import psycopg2\n",
    "\n",
    "connection = psycopg2.connect(\n",
    "    host=db_host,\n",
    "    database=db_name,\n",
    "    user=db_user,\n",
    "    password=db_password,\n",
    "    port=\"5432\"  # 기본 포트\n",
    ")\n",
    "\n",
    "print (connection)\n",
    "cursor = connection.cursor()\n",
    "\n",
    "# 데이터베이스 작업 수행\n",
    "cursor.execute(\"SELECT * FROM \\\"CulturePost\\\";\")\n",
    "results = cursor.fetchall()\n",
    "for row in results:\n",
    "    print(row)\n",
    "\n",
    "cursor.close()\n",
    "connection.close()"
   ],
   "id": "initial_id"
  }
 ],
 "metadata": {
  "kernelspec": {
   "display_name": "Python 3",
   "language": "python",
   "name": "python3"
  },
  "language_info": {
   "codemirror_mode": {
    "name": "ipython",
    "version": 2
   },
   "file_extension": ".py",
   "mimetype": "text/x-python",
   "name": "python",
   "nbconvert_exporter": "python",
   "pygments_lexer": "ipython2",
   "version": "2.7.6"
  }
 },
 "nbformat": 4,
 "nbformat_minor": 5
}
