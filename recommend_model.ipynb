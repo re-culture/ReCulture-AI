{
 "cells": [
  {
   "metadata": {
    "ExecuteTime": {
     "end_time": "2024-09-01T14:27:24.594888Z",
     "start_time": "2024-09-01T14:27:23.325582Z"
    }
   },
   "cell_type": "code",
   "source": [
    "import pandas as pd\n",
    "\n",
    "sports_reviews = pd.read_csv('sports_reviews.csv')\n",
    "book_reviews = pd.read_csv('book_reviews.csv')\n",
    "classic_reviews = pd.read_csv('classic_reviews.csv')\n",
    "concert_reviews = pd.read_csv('concert_reviews.csv')\n",
    "drama_reviews = pd.read_csv('drama_reviews.csv')\n",
    "movie_reviews = pd.read_csv('movie_reviews.csv')\n",
    "exhibition_reviews = pd.read_csv('exhibition_reviews.csv')\n",
    "musical_reviews = pd.read_csv('musical_reviews.csv')\n",
    "theater_reviews = pd.read_csv('theater_reviews.csv')\n",
    "\n",
    "# 칼럼 선택 및 칼럼명 통일\n",
    "book_reviews = book_reviews[['review_title', 'review_text']]\n",
    "book_reviews.columns = ['title', 'content']\n",
    "drama_reviews = drama_reviews[['drama_name', 'review_title']]\n",
    "drama_reviews.columns = ['title', 'content']\n",
    "movie_reviews = movie_reviews[['movie_name', 'review_title']]\n",
    "movie_reviews.columns = ['title', 'content']\n",
    "\n",
    "# 칼럼 추가\n",
    "sports_reviews['category'] = 4\n",
    "book_reviews['category'] = 7\n",
    "classic_reviews['category'] = 5\n",
    "concert_reviews['category'] = 5\n",
    "drama_reviews['category'] = 6\n",
    "movie_reviews['category'] = 1\n",
    "exhibition_reviews['category'] = 8\n",
    "musical_reviews['category'] = 2\n",
    "theater_reviews['category'] = 3\n",
    "\n",
    "# 모든 데이터 합치기\n",
    "all_reviews = pd.concat([sports_reviews, book_reviews, classic_reviews, concert_reviews, drama_reviews, movie_reviews, exhibition_reviews, musical_reviews, theater_reviews])\n",
    "\n",
    "print (all_reviews.head())\n",
    "\n",
    "def save_reviews_to_csv(reviews, filename):\n",
    "    df = pd.DataFrame(reviews)\n",
    "    df.to_csv(filename, index=False, encoding='utf-8')\n",
    "    print(\"Saved reviews to csv file.\")\n",
    "\n",
    "save_reviews_to_csv(all_reviews, 'all_reviews.csv')\n"
   ],
   "id": "ba33d7c3b6566066",
   "outputs": [
    {
     "name": "stdout",
     "output_type": "stream",
     "text": [
      "       title                                            content  category\n",
      "0      빠른입장은                                     역시 모바일 티켓이죠 ^^         4\n",
      "1     첫경기 관람                            첫 경기 관람인데 너무 재미있게 봤어요~~         4\n",
      "2      두산화이팅  아들은 휴가중..^^아빠와 아들 함께 두산 응원하러 경기장에 출동.... 더운날 선...         4\n",
      "3  수원수원수원!!!  우리는 수원삼성이다\\n부셔버려 안양!!!!!!!!!\\n지지대더비의 승자는 항상 수원...         4\n",
      "4         축구                                           너무 재미있었다         4\n",
      "Saved reviews to csv file.\n"
     ]
    }
   ],
   "execution_count": 2
  },
  {
   "metadata": {
    "ExecuteTime": {
     "end_time": "2024-09-01T14:27:29.319840Z",
     "start_time": "2024-09-01T14:27:26.598042Z"
    }
   },
   "cell_type": "code",
   "source": [
    "from sklearn.feature_extraction.text import TfidfVectorizer\n",
    "from sklearn.metrics.pairwise import cosine_similarity\n",
    "\n",
    "tfidf_vectorizer = TfidfVectorizer()\n",
    "all_reviews['all_text'] = all_reviews['category'].astype(str) + ' ' + all_reviews['title'] + ' ' + all_reviews['content']\n",
    "tfidf_matrix = tfidf_vectorizer.fit_transform(all_reviews['all_text'])\n",
    "cosine_sim = cosine_similarity(tfidf_matrix, tfidf_matrix)\n",
    "print(cosine_sim)근데"
   ],
   "id": "493352de8097f1db",
   "outputs": [
    {
     "name": "stdout",
     "output_type": "stream",
     "text": [
      "[[1.         0.         0.         ... 0.         0.         0.        ]\n",
      " [0.         1.         0.         ... 0.01945837 0.02264919 0.        ]\n",
      " [0.         0.         1.         ... 0.         0.         0.        ]\n",
      " ...\n",
      " [0.         0.01945837 0.         ... 1.         0.0160913  0.        ]\n",
      " [0.         0.02264919 0.         ... 0.0160913  1.         0.        ]\n",
      " [0.         0.         0.         ... 0.         0.         1.        ]]\n"
     ]
    }
   ],
   "execution_count": 3
  },
  {
   "metadata": {
    "ExecuteTime": {
     "end_time": "2024-09-01T14:27:33.333401Z",
     "start_time": "2024-09-01T14:27:33.325058Z"
    }
   },
   "cell_type": "code",
   "source": [
    "# 사용자가 작성한 리뷰의 인덱스(예: 0번째 리뷰라고 가정)\n",
    "user_review_index = 1\n",
    "print (all_reviews['title'].iloc[user_review_index])\n",
    "print (all_reviews['content'].iloc[user_review_index])\n",
    "\n",
    "# 해당 리뷰와 다른 모든 리뷰 간의 유사도를 가져옴\n",
    "similarity_scores = list(enumerate(cosine_sim[user_review_index]))\n",
    "\n",
    "# 유사도에 따라 리뷰들을 정렬 (높은 유사도 순)\n",
    "similarity_scores = sorted(similarity_scores, key=lambda x: x[1], reverse=True)\n",
    "\n",
    "# 가장 유사한 리뷰들 가져오기 (예: 상위 5개)\n",
    "top_similar_reviews = similarity_scores[1:6]  # 0번째는 자기 자신이므로 제외"
   ],
   "id": "132539ffaf77b107",
   "outputs": [
    {
     "name": "stdout",
     "output_type": "stream",
     "text": [
      "첫경기 관람\n",
      "첫 경기 관람인데 너무 재미있게 봤어요~~\n"
     ]
    }
   ],
   "execution_count": 4
  },
  {
   "metadata": {
    "ExecuteTime": {
     "end_time": "2024-09-01T14:27:36.139010Z",
     "start_time": "2024-09-01T14:27:36.134559Z"
    }
   },
   "cell_type": "code",
   "source": [
    "# 추천 리스트 출력\n",
    "for i, score in top_similar_reviews:\n",
    "    print(f\"추천 리뷰 {i}:\")\n",
    "    print(f\"제목: {all_reviews['title'].iloc[i]}\")\n",
    "    print(f\"내용: {all_reviews['content'].iloc[i]}\")\n",
    "    print(f\"유사도 점수: {score}\")\n",
    "    print()"
   ],
   "id": "c3e25b024d1a96d2",
   "outputs": [
    {
     "name": "stdout",
     "output_type": "stream",
     "text": [
      "추천 리뷰 2338:\n",
      "제목: 범죄도시4\n",
      "내용: 재미있게 봤어요\n",
      "유사도 점수: 0.3918173172353117\n",
      "\n",
      "추천 리뷰 3104:\n",
      "제목: 정말 최고의 공연\n",
      "내용: 너무 재미있게 봤어요??\n",
      "유사도 점수: 0.3594156857011849\n",
      "\n",
      "추천 리뷰 12:\n",
      "제목: 미르 첫 경기 좋았습니다.\n",
      "내용: 미르 첫경기 주차난에 너무 더웠지만 이겨서 너무 행복했습니다.\n",
      "유사도 점수: 0.2888051977785216\n",
      "\n",
      "추천 리뷰 275:\n",
      "제목: 재미있게 봤어요~\n",
      "내용: 기대이상 재미있어요^^\n",
      "유사도 점수: 0.274880658836793\n",
      "\n",
      "추천 리뷰 27:\n",
      "제목: 경기 관람 잘 했습니다.\n",
      "내용: 방학 맞이 해서 아이들과 처음으로 축구 관람 했습니다.tv에서만 경기 보다가 직접 관람 하니 생동감 넘치고 재미있었습니다. 날씨가 조금 덥긴 했지만 아이들과 좋은 추억 만들었네요축구 관람 첨이라서 경기장 반입 음료 규정을 잘 몰라 당황 했네요경기 관람 가실분들은 캔 음료 반입 안되고 600이하 패트병만 가능하니 참고 하세요~~!!\n",
      "유사도 점수: 0.2214342315756216\n",
      "\n"
     ]
    }
   ],
   "execution_count": 5
  },
  {
   "metadata": {},
   "cell_type": "code",
   "outputs": [],
   "execution_count": null,
   "source": "",
   "id": "5f914fd654ba15dc"
  }
 ],
 "metadata": {
  "kernelspec": {
   "display_name": "Python 3",
   "language": "python",
   "name": "python3"
  },
  "language_info": {
   "codemirror_mode": {
    "name": "ipython",
    "version": 2
   },
   "file_extension": ".py",
   "mimetype": "text/x-python",
   "name": "python",
   "nbconvert_exporter": "python",
   "pygments_lexer": "ipython2",
   "version": "2.7.6"
  }
 },
 "nbformat": 4,
 "nbformat_minor": 5
}
